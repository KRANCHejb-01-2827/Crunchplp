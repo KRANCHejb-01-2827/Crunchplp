{
  "nbformat": 4,
  "nbformat_minor": 0,
  "metadata": {
    "colab": {
      "provenance": [],
      "authorship_tag": "ABX9TyOIPjfdsp3FQtV14ozvOS9O",
      "include_colab_link": true
    },
    "kernelspec": {
      "name": "python3",
      "display_name": "Python 3"
    },
    "language_info": {
      "name": "python"
    }
  },
  "cells": [
    {
      "cell_type": "markdown",
      "metadata": {
        "id": "view-in-github",
        "colab_type": "text"
      },
      "source": [
        "<a href=\"https://colab.research.google.com/github/KRANCHejb-01-2827/Crunchplp/blob/main/tensor_w3_s2.ipynb\" target=\"_parent\"><img src=\"https://colab.research.google.com/assets/colab-badge.svg\" alt=\"Open In Colab\"/></a>"
      ]
    },
    {
      "cell_type": "code",
      "execution_count": null,
      "metadata": {
        "id": "AYXJ0GuHXJ8t"
      },
      "outputs": [],
      "source": [
        "---------------------------------------------------------------------------\n",
        "ModuleNotFoundError                       Traceback (most recent call last)\n",
        "Cell In[1], line 2\n",
        "      1 # Import TensorFlow. TensorFlow provides the deep learning framework and Keras API for building models.\n",
        "----> 2 import tensorflow as tf\n",
        "      4 # Load the MNIST dataset directly from TensorFlow's built-in datasets.\n",
        "      5 # The dataset is automatically downloaded from an online source and split into training and test sets.\n",
        "      6 # x_train and x_test contain image pixel data, while y_train and y_test contain the corresponding digit labels.\n",
        "      7 (x_train, y_train), (x_test, y_test) = tf.keras.datasets.mnist.load_data()\n",
        "\n",
        "ModuleNotFoundError: No module named 'tensorflow'"
      ]
    }
  ]
}